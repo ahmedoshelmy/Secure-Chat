{
 "cells": [
  {
   "cell_type": "code",
   "execution_count": 1,
   "metadata": {},
   "outputs": [],
   "source": [
    "import string\n"
   ]
  },
  {
   "cell_type": "code",
   "execution_count": 49,
   "metadata": {},
   "outputs": [
    {
     "name": "stdout",
     "output_type": "stream",
     "text": [
      "97 abcdefghijklmnop\n"
     ]
    }
   ],
   "source": [
    "\n",
    "START = ord(\"a\")\n",
    "CHARSET = string.ascii_lowercase[:16]\n",
    "\n",
    "print(START, CHARSET)"
   ]
  },
  {
   "cell_type": "code",
   "execution_count": 52,
   "metadata": {},
   "outputs": [
    {
     "data": {
      "text/plain": [
       "6"
      ]
     },
     "execution_count": 52,
     "metadata": {},
     "output_type": "execute_result"
    }
   ],
   "source": [
    "int(b[:4], 2)"
   ]
  },
  {
   "cell_type": "code",
   "execution_count": 53,
   "metadata": {},
   "outputs": [],
   "source": [
    "enc = \"iehgheidhgifhmhgik\"\n",
    "cipher = \"jikmkjgekjkckjkbknkjlhgekflgkjgekbkfkpknkcklgekfgekbkdlkkjgcgejlkjgekckjkjkigelikdgekfkhligekkkflhligc\""
   ]
  },
  {
   "cell_type": "code",
   "execution_count": 54,
   "metadata": {},
   "outputs": [],
   "source": [
    "START = ord(\"a\")\n",
    "CHARSET = string.ascii_lowercase[:16]\n",
    "\n",
    "def decrypt(cipher:str, key: str):\n",
    "    msg_b16 = \"\"\n",
    "    msg = \"\"\n",
    "    \n",
    "    # unshift\n",
    "    for i, c in enumerate(cipher):\n",
    "        msg_b16 += CHARSET[(ord(c) - ord(key[i % len(key)])) % len(CHARSET)]\n",
    "        \n",
    "    # decode b16\n",
    "    for i in range(0, len(msg_b16), 2):\n",
    "        b1 = \"{0:04b}\".format(ord(msg_b16[i]) - START) \n",
    "        b2 = \"{0:04b}\".format(ord(msg_b16[i+1]) - START) \n",
    "\n",
    "        decrypt_char = int(b1 + b2, 2)\n",
    "        \n",
    "        # if\n",
    "        msg += chr(int(b1 + b2, 2))\n",
    "        \n",
    "    return msg_b16, msg"
   ]
  },
  {
   "cell_type": "code",
   "execution_count": 55,
   "metadata": {},
   "outputs": [
    {
     "name": "stdout",
     "output_type": "stream",
     "text": [
      "('jikmkjgekjkckjkbknkjlhgekflgkjgekbkfkpknkcklgekfgekbkdlkkjgcgejlkjgekckjkjkigelikdgekfkhligekkkflhligc', '\\x98¬©d©¢©¡\\xad©·d¥¶©d¡¥¯\\xad¢«d¥d¡£º©bd\\x9b©d¢©©¨d¸£d¥§¸dª¥·¸b')\n",
      "('ihjljifdjijbjijajmjikgfdjekfjifdjajejojmjbjkfdjefdjajckjjifbfdikjifdjbjijijhfdkhjcfdjejgkhfdjjjekgkhfb', '\\x87\\x9b\\x98S\\x98\\x91\\x98\\x90\\x9c\\x98¦S\\x94¥\\x98S\\x90\\x94\\x9e\\x9c\\x91\\x9aS\\x94S\\x90\\x92©\\x98QS\\x8a\\x98S\\x91\\x98\\x98\\x97S§\\x92S\\x94\\x96§S\\x99\\x94¦§Q')\n",
      "('hgikihecihiaihipilihjfecidjeihecipidiniliaijecidecipibjiiheaechjiheciaihihigecjgibecidifjgeciiidjfjgea', 'v\\x8a\\x87B\\x87\\x80\\x87\\x8f\\x8b\\x87\\x95B\\x83\\x94\\x87B\\x8f\\x83\\x8d\\x8b\\x80\\x89B\\x83B\\x8f\\x81\\x98\\x87@By\\x87B\\x80\\x87\\x87\\x86B\\x96\\x81B\\x83\\x85\\x96B\\x88\\x83\\x95\\x96@')\n",
      "('gfhjhgdbhghphghohkhgiedbhcidhgdbhohchmhkhphidbhcdbhohaihhgdpdbgihgdbhphghghfdbifhadbhcheifdbhhhcieifdp', 'eyv1v\\x7fv~zv\\x841r\\x83v1~r|z\\x7fx1r1~p\\x87v?1hv1\\x7fvvu1\\x85p1rt\\x851wr\\x84\\x85?')\n",
      "('fegigfcagfgogfgngjgfhdcagbhcgfcagngbglgjgoghcagbcagngphggfcocafhgfcagogfgfgecahegpcagbgdhecagggbhdheco', 'The enemies are making a move. We need to act fast.')\n",
      "('edfhfebpfefnfefmfifegcbpfagbfebpfmfafkfifnfgbpfabpfmfogffebnbpegfebpfnfefefdbpgdfobpfafcgdbpfffagcgdbn', 'CWT\\x1fT]T\\\\XTb\\x1fPaT\\x1f\\\\PZX]V\\x1fP\\x1f\\\\^eT\\x1d\\x1fFT\\x1f]TTS\\x1fc^\\x1fPRc\\x1fUPbc\\x1d')\n",
      "('dcegedaoedemedelehedfbaoepfaedaoelepejehemefaoepaoelenfeedamaodfedaoemededecaofcenaoepebfcaoeeepfbfcam', '2FC\\x0eCLCKGCQ\\x0eOPC\\x0eKOIGLE\\x0eO\\x0eKMTC\\x0c\\x0e5C\\x0eLCCB\\x0eRM\\x0eOAR\\x0eDOQR\\x0c')\n",
      "('cbdfdcpndcdldcdkdgdceapndoepdcpndkdodidgdldepndopndkdmeddcplpncedcpndldcdcdbpnebdmpndodaebpndddoeaebpl', '!52ý2;2:62@ý>O2ý:>86;4ý>ý:<C2ûý$2ý;221ýA<ý>0Aý3>@Aû')\n",
      "('bacecbomcbckcbcjcfcbdpomcndocbomcjcnchcfckcdomcnomcjcldccbokombdcbomckcbcbcaomdaclomcncpdaomcccndpdaok', '\\x10$!ì!*!)%!?ì->!ì)-\\'%*#ì-ì)+2!êì\\x13!ì*!! ì0+ì-/0ì\"-?0ê')\n",
      "('apbdbanlbabjbabibebaconlbmcnbanlbibmbgbebjbcnlbmnlbibkcbbanjnlacbanlbjbababpnlcpbknlbmbocpnlbbbmcocpnj', '\\x0f\\x13\\x10Û\\x10\\x19\\x10\\x18\\x14\\x10.Û\\x1c-\\x10Û\\x18\\x1c\\x16\\x14\\x19\\x12Û\\x1cÛ\\x18\\x1a!\\x10ÙÛ\\x02\\x10Û\\x19\\x10\\x10\\x1fÛ/\\x1aÛ\\x1c\\x1e/Û\\x11\\x1c./Ù')\n",
      "('poacapmkapaiapahadapbnmkalbmapmkahalafadaiabmkalmkahajbaapmimkpbapmkaiapapaomkboajmkalanbomkaaalbnbomi', 'þ\\x02\\x0fÊ\\x0f\\x08\\x0f\\x07\\x03\\x0f\\x1dÊ\\x0b\\x1c\\x0fÊ\\x07\\x0b\\x05\\x03\\x08\\x01Ê\\x0bÊ\\x07\\t\\x10\\x0fÈÊñ\\x0fÊ\\x08\\x0f\\x0f\\x0eÊ\\x1e\\tÊ\\x0b\\r\\x1eÊ\\x00\\x0b\\x1d\\x1eÈ')\n",
      "('onpbpoljpophpopgpcpoamljpkalpoljpgpkpepcphpaljpkljpgpiappolhljoapoljphpopopnljanpiljpkpmanljpppkamanlh', 'íñþ¹þ÷þöòþ\\x0c¹ú\\x0bþ¹öúôò÷ð¹ú¹öø\\x0fþ·¹àþ¹÷þþý¹\\rø¹úü\\r¹ÿú\\x0c\\r·')\n",
      "('nmoaonkionogonofobonplkiojpkonkiofojodobogopkiojkiofohpoonkgkinponkiogononomkipmohkiojolpmkiooojplpmkg', 'Üàí¨íæíåáíû¨éúí¨åéãáæï¨é¨åçþí¦¨ßí¨æííì¨üç¨éëü¨îéûü¦')\n",
      "('mlnpnmjhnmnfnmnenanmokjhniojnmjhnenincnanfnojhnijhnengonnmjfjhmonmjhnfnmnmnljholngjhninkoljhnnniokoljf', 'ËßÜ\\x97ÜÕÜÔÐÜê\\x97ØéÜ\\x97ÔØÒÐÕÞ\\x97Ø\\x97ÔÖíÜ\\x95\\x97ÎÜ\\x97ÕÜÜÛ\\x97ëÖ\\x97ØÚë\\x97ÝØêë\\x95')\n",
      "('lkmomligmlmemlmdmpmlnjigmhnimligmdmhmbmpmemnigmhigmdmfnmmlieiglnmligmemlmlmkignkmfigmhmjnkigmmmhnjnkie', 'ºÎË\\x86ËÄËÃÏËÙ\\x86ÇØË\\x86ÃÇÁÏÄÍ\\x86Ç\\x86ÃÅÜË\\x84\\x86½Ë\\x86ÄËËÊ\\x86ÚÅ\\x86ÇÉÚ\\x86ÌÇÙÚ\\x84')\n",
      "('kjlnlkhflkldlklclolkmihflgmhlkhflclglaloldlmhflghflclemllkhdhfkmlkhfldlklkljhfmjlehflglimjhflllgmimjhd', '©½ºuº³º²¾ºÈu¶Çºu²¶°¾³¼u¶u²´Ëºsu¬ºu³ºº¹uÉ´u¶¸Éu»¶ÈÉs')\n"
     ]
    }
   ],
   "source": [
    "for i in string.ascii_lowercase[:16]:\n",
    "    print(decrypt(cipher, i))"
   ]
  },
  {
   "cell_type": "markdown",
   "metadata": {},
   "source": [
    "# Observation of Anlayze Encryption Algorithm:\n",
    "1. length of message = 1/2 * length of cipher\n",
    "2. if we assume the worse length if key"
   ]
  },
  {
   "cell_type": "code",
   "execution_count": 56,
   "metadata": {},
   "outputs": [
    {
     "data": {
      "text/plain": [
       "'abcdefghijklmnop'"
      ]
     },
     "execution_count": 56,
     "metadata": {},
     "output_type": "execute_result"
    }
   ],
   "source": [
    "CHARSET"
   ]
  },
  {
   "cell_type": "code",
   "execution_count": 47,
   "metadata": {},
   "outputs": [
    {
     "name": "stdout",
     "output_type": "stream",
     "text": [
      "a 0110 0001\n",
      "b 0110 0010\n",
      "c 0110 0011\n",
      "d 0110 0100\n",
      "e 0110 0101\n",
      "f 0110 0110\n",
      "g 0110 0111\n",
      "h 0110 1000\n",
      "i 0110 1001\n",
      "j 0110 1010\n",
      "k 0110 1011\n",
      "l 0110 1100\n",
      "m 0110 1101\n",
      "n 0110 1110\n",
      "o 0110 1111\n",
      "p 0111 0000\n",
      "q 0111 0001\n",
      "r 0111 0010\n",
      "s 0111 0011\n",
      "t 0111 0100\n",
      "u 0111 0101\n",
      "v 0111 0110\n",
      "w 0111 0111\n",
      "x 0111 1000\n",
      "y 0111 1001\n",
      "z 0111 1010\n"
     ]
    }
   ],
   "source": [
    "for i in string.ascii_lowercase:\n",
    "    bin = \"{0:08b}\".format(ord(i))\n",
    "    print(i, bin[:4], bin[4:])"
   ]
  },
  {
   "cell_type": "code",
   "execution_count": 48,
   "metadata": {},
   "outputs": [
    {
     "name": "stdout",
     "output_type": "stream",
     "text": [
      "A 0100 0001\n",
      "B 0100 0010\n",
      "C 0100 0011\n",
      "D 0100 0100\n",
      "E 0100 0101\n",
      "F 0100 0110\n",
      "G 0100 0111\n",
      "H 0100 1000\n",
      "I 0100 1001\n",
      "J 0100 1010\n",
      "K 0100 1011\n",
      "L 0100 1100\n",
      "M 0100 1101\n",
      "N 0100 1110\n",
      "O 0100 1111\n",
      "P 0101 0000\n",
      "Q 0101 0001\n",
      "R 0101 0010\n",
      "S 0101 0011\n",
      "T 0101 0100\n",
      "U 0101 0101\n",
      "V 0101 0110\n",
      "W 0101 0111\n",
      "X 0101 1000\n",
      "Y 0101 1001\n",
      "Z 0101 1010\n"
     ]
    }
   ],
   "source": [
    "for i in string.ascii_uppercase:\n",
    "    bin = \"{0:08b}\".format(ord(i))\n",
    "    print(i, bin[:4], bin[4:])"
   ]
  },
  {
   "cell_type": "code",
   "execution_count": 57,
   "metadata": {},
   "outputs": [
    {
     "name": "stdout",
     "output_type": "stream",
     "text": [
      "  0010 0000\n"
     ]
    }
   ],
   "source": [
    "bin = \"{0:08b}\".format(ord(' '))\n",
    "print(' ', bin[:4], bin[4:])"
   ]
  },
  {
   "cell_type": "code",
   "execution_count": 4,
   "metadata": {},
   "outputs": [
    {
     "name": "stderr",
     "output_type": "stream",
     "text": [
      "<>:1: SyntaxWarning: invalid escape sequence '\\ '\n",
      "<>:1: SyntaxWarning: invalid escape sequence '\\ '\n",
      "C:\\Users\\asusr\\AppData\\Local\\Temp\\ipykernel_35844\\2383809375.py:1: SyntaxWarning: invalid escape sequence '\\ '\n",
      "  \"\\ \".isascii()\n"
     ]
    },
    {
     "data": {
      "text/plain": [
       "True"
      ]
     },
     "execution_count": 4,
     "metadata": {},
     "output_type": "execute_result"
    }
   ],
   "source": [
    "\"\\ \".isascii()"
   ]
  },
  {
   "cell_type": "code",
   "execution_count": null,
   "metadata": {},
   "outputs": [],
   "source": []
  }
 ],
 "metadata": {
  "kernelspec": {
   "display_name": "Python 3",
   "language": "python",
   "name": "python3"
  },
  "language_info": {
   "codemirror_mode": {
    "name": "ipython",
    "version": 3
   },
   "file_extension": ".py",
   "mimetype": "text/x-python",
   "name": "python",
   "nbconvert_exporter": "python",
   "pygments_lexer": "ipython3",
   "version": "3.12.2"
  }
 },
 "nbformat": 4,
 "nbformat_minor": 2
}
