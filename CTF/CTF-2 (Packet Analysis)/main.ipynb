{
 "cells": [
  {
   "cell_type": "code",
   "execution_count": 1,
   "metadata": {},
   "outputs": [],
   "source": [
    "import os"
   ]
  },
  {
   "cell_type": "code",
   "execution_count": 10,
   "metadata": {},
   "outputs": [],
   "source": [
    "# I got this text from ./packet file which I saved from the packets\n",
    "# I used wireshark to capture the packets\n",
    "text = 'Gur synt vf cvpbPGS{c33xno00_1_f33_h_qrnqorrs}'\n",
    "\n",
    "def rot13(text):\n",
    "    result = ''\n",
    "    for c in text:\n",
    "        if c.isalpha():\n",
    "            if c.islower():\n",
    "                result += chr((ord(c) - ord('a') + 13) % 26 + ord('a'))\n",
    "            else:\n",
    "                result += chr((ord(c) - ord('A') + 13) % 26 + ord('A'))\n",
    "        else:\n",
    "            result += c\n",
    "    return result\n"
   ]
  },
  {
   "cell_type": "code",
   "execution_count": 9,
   "metadata": {},
   "outputs": [
    {
     "data": {
      "text/plain": [
       "'Gur synt vf cvpbPGS{c33xno00_1_f33_h_qrnqorrs}'"
      ]
     },
     "execution_count": 9,
     "metadata": {},
     "output_type": "execute_result"
    }
   ],
   "source": [
    "text"
   ]
  },
  {
   "cell_type": "code",
   "execution_count": 11,
   "metadata": {},
   "outputs": [
    {
     "data": {
      "text/plain": [
       "'The flag is picoCTF{p33kab00_1_s33_u_deadbeef}'"
      ]
     },
     "execution_count": 11,
     "metadata": {},
     "output_type": "execute_result"
    }
   ],
   "source": [
    "rot13(text)"
   ]
  }
 ],
 "metadata": {
  "kernelspec": {
   "display_name": "Python 3",
   "language": "python",
   "name": "python3"
  },
  "language_info": {
   "codemirror_mode": {
    "name": "ipython",
    "version": 3
   },
   "file_extension": ".py",
   "mimetype": "text/x-python",
   "name": "python",
   "nbconvert_exporter": "python",
   "pygments_lexer": "ipython3",
   "version": "3.11.4"
  }
 },
 "nbformat": 4,
 "nbformat_minor": 2
}
